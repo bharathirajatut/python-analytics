{
 "cells": [
  {
   "cell_type": "code",
   "execution_count": 80,
   "metadata": {},
   "outputs": [
    {
     "data": {
      "text/plain": [
       "'1.0.1'"
      ]
     },
     "execution_count": 80,
     "metadata": {},
     "output_type": "execute_result"
    }
   ],
   "source": [
    "#import pandas and get version\n",
    "import pandas as pd\n",
    "pd.__version__"
   ]
  },
  {
   "cell_type": "code",
   "execution_count": 81,
   "metadata": {},
   "outputs": [
    {
     "data": {
      "text/html": [
       "<div>\n",
       "<style scoped>\n",
       "    .dataframe tbody tr th:only-of-type {\n",
       "        vertical-align: middle;\n",
       "    }\n",
       "\n",
       "    .dataframe tbody tr th {\n",
       "        vertical-align: top;\n",
       "    }\n",
       "\n",
       "    .dataframe thead th {\n",
       "        text-align: right;\n",
       "    }\n",
       "</style>\n",
       "<table border=\"1\" class=\"dataframe\">\n",
       "  <thead>\n",
       "    <tr style=\"text-align: right;\">\n",
       "      <th></th>\n",
       "      <th>created_date</th>\n",
       "    </tr>\n",
       "  </thead>\n",
       "  <tbody>\n",
       "    <tr>\n",
       "      <th>0</th>\n",
       "      <td>2020-01-05 11:07:04</td>\n",
       "    </tr>\n",
       "    <tr>\n",
       "      <th>1</th>\n",
       "      <td>2020-01-05 12:15:10</td>\n",
       "    </tr>\n",
       "    <tr>\n",
       "      <th>2</th>\n",
       "      <td>2020-01-05 12:34:01</td>\n",
       "    </tr>\n",
       "    <tr>\n",
       "      <th>3</th>\n",
       "      <td>2020-01-05 12:44:54</td>\n",
       "    </tr>\n",
       "    <tr>\n",
       "      <th>4</th>\n",
       "      <td>2020-01-05 13:04:22</td>\n",
       "    </tr>\n",
       "  </tbody>\n",
       "</table>\n",
       "</div>"
      ],
      "text/plain": [
       "          created_date\n",
       "0  2020-01-05 11:07:04\n",
       "1  2020-01-05 12:15:10\n",
       "2  2020-01-05 12:34:01\n",
       "3  2020-01-05 12:44:54\n",
       "4  2020-01-05 13:04:22"
      ]
     },
     "execution_count": 81,
     "metadata": {},
     "output_type": "execute_result"
    }
   ],
   "source": [
    "#read mysql datetime column csv file\n",
    "df=pd.read_csv(\"mysql-datetime.csv\")\n",
    "df.head()"
   ]
  },
  {
   "cell_type": "code",
   "execution_count": 82,
   "metadata": {},
   "outputs": [
    {
     "data": {
      "text/plain": [
       "created_date    object\n",
       "dtype: object"
      ]
     },
     "execution_count": 82,
     "metadata": {},
     "output_type": "execute_result"
    }
   ],
   "source": [
    "#get the data type of all columns\n",
    "df.dtypes"
   ]
  },
  {
   "cell_type": "code",
   "execution_count": 83,
   "metadata": {},
   "outputs": [
    {
     "data": {
      "text/plain": [
       "0   2020-01-05 11:07:04\n",
       "1   2020-01-05 12:15:10\n",
       "2   2020-01-05 12:34:01\n",
       "3   2020-01-05 12:44:54\n",
       "4   2020-01-05 13:04:22\n",
       "Name: created_date, dtype: datetime64[ns]"
      ]
     },
     "execution_count": 83,
     "metadata": {},
     "output_type": "execute_result"
    }
   ],
   "source": [
    "#convert string to date time object using to_datetime function\n",
    "pd.to_datetime(df.created_date).head()"
   ]
  },
  {
   "cell_type": "code",
   "execution_count": 84,
   "metadata": {
    "scrolled": true
   },
   "outputs": [
    {
     "data": {
      "text/plain": [
       "created_date            object\n",
       "cd              datetime64[ns]\n",
       "dtype: object"
      ]
     },
     "execution_count": 84,
     "metadata": {},
     "output_type": "execute_result"
    }
   ],
   "source": [
    "#add a new column to the dataframe with datetime data type\n",
    "df[\"cd\"]=pd.to_datetime(df[\"created_date\"])\n",
    "df.dtypes"
   ]
  },
  {
   "cell_type": "code",
   "execution_count": 85,
   "metadata": {},
   "outputs": [
    {
     "data": {
      "text/html": [
       "<div>\n",
       "<style scoped>\n",
       "    .dataframe tbody tr th:only-of-type {\n",
       "        vertical-align: middle;\n",
       "    }\n",
       "\n",
       "    .dataframe tbody tr th {\n",
       "        vertical-align: top;\n",
       "    }\n",
       "\n",
       "    .dataframe thead th {\n",
       "        text-align: right;\n",
       "    }\n",
       "</style>\n",
       "<table border=\"1\" class=\"dataframe\">\n",
       "  <thead>\n",
       "    <tr style=\"text-align: right;\">\n",
       "      <th></th>\n",
       "      <th>created_date</th>\n",
       "      <th>cd</th>\n",
       "    </tr>\n",
       "  </thead>\n",
       "  <tbody>\n",
       "    <tr>\n",
       "      <th>0</th>\n",
       "      <td>2020-01-05 11:07:04</td>\n",
       "      <td>2020-01-05 11:07:04</td>\n",
       "    </tr>\n",
       "    <tr>\n",
       "      <th>1</th>\n",
       "      <td>2020-01-05 12:15:10</td>\n",
       "      <td>2020-01-05 12:15:10</td>\n",
       "    </tr>\n",
       "    <tr>\n",
       "      <th>2</th>\n",
       "      <td>2020-01-05 12:34:01</td>\n",
       "      <td>2020-01-05 12:34:01</td>\n",
       "    </tr>\n",
       "    <tr>\n",
       "      <th>3</th>\n",
       "      <td>2020-01-05 12:44:54</td>\n",
       "      <td>2020-01-05 12:44:54</td>\n",
       "    </tr>\n",
       "    <tr>\n",
       "      <th>4</th>\n",
       "      <td>2020-01-05 13:04:22</td>\n",
       "      <td>2020-01-05 13:04:22</td>\n",
       "    </tr>\n",
       "  </tbody>\n",
       "</table>\n",
       "</div>"
      ],
      "text/plain": [
       "          created_date                  cd\n",
       "0  2020-01-05 11:07:04 2020-01-05 11:07:04\n",
       "1  2020-01-05 12:15:10 2020-01-05 12:15:10\n",
       "2  2020-01-05 12:34:01 2020-01-05 12:34:01\n",
       "3  2020-01-05 12:44:54 2020-01-05 12:44:54\n",
       "4  2020-01-05 13:04:22 2020-01-05 13:04:22"
      ]
     },
     "execution_count": 85,
     "metadata": {},
     "output_type": "execute_result"
    }
   ],
   "source": [
    "df.head()"
   ]
  },
  {
   "cell_type": "code",
   "execution_count": 86,
   "metadata": {},
   "outputs": [
    {
     "data": {
      "text/plain": [
       "0    2020-01-05\n",
       "1    2020-01-05\n",
       "2    2020-01-05\n",
       "3    2020-01-05\n",
       "4    2020-01-05\n",
       "Name: cd, dtype: object"
      ]
     },
     "execution_count": 86,
     "metadata": {},
     "output_type": "execute_result"
    }
   ],
   "source": [
    "#df.cd.dt.date\n",
    "#get date from date time object\n",
    "df.cd.dt.date.head()"
   ]
  },
  {
   "cell_type": "code",
   "execution_count": 87,
   "metadata": {},
   "outputs": [
    {
     "data": {
      "text/plain": [
       "0    05-Jan-20\n",
       "1    05-Jan-20\n",
       "2    05-Jan-20\n",
       "3    05-Jan-20\n",
       "4    05-Jan-20\n",
       "Name: cd, dtype: object"
      ]
     },
     "execution_count": 87,
     "metadata": {},
     "output_type": "execute_result"
    }
   ],
   "source": [
    "#get your desired date format using the strftime function\n",
    "# get the formating model from the below link\n",
    "#https://docs.python.org/3/library/datetime.html#strftime-and-strptime-behavior\n",
    "df.cd.dt.strftime(\"%d-%b-%y\").head()"
   ]
  },
  {
   "cell_type": "code",
   "execution_count": 88,
   "metadata": {},
   "outputs": [],
   "source": [
    "#using DateOffet we can manipulate date by increase/decrease day,month,year etc\n",
    "from pandas.tseries.offsets import DateOffset\n"
   ]
  },
  {
   "cell_type": "code",
   "execution_count": 89,
   "metadata": {},
   "outputs": [
    {
     "data": {
      "text/plain": [
       "0      2020-01-05\n",
       "1      2020-01-05\n",
       "2      2020-01-05\n",
       "3      2020-01-05\n",
       "4      2020-01-05\n",
       "          ...    \n",
       "113    2020-01-16\n",
       "114    2020-01-16\n",
       "115    2020-01-16\n",
       "116    2020-01-16\n",
       "117    2020-01-16\n",
       "Name: cd, Length: 118, dtype: object"
      ]
     },
     "execution_count": 89,
     "metadata": {},
     "output_type": "execute_result"
    }
   ],
   "source": [
    "df.cd.dt.date"
   ]
  },
  {
   "cell_type": "code",
   "execution_count": 90,
   "metadata": {},
   "outputs": [
    {
     "data": {
      "text/plain": [
       "0     2020-01-08\n",
       "1     2020-01-08\n",
       "2     2020-01-08\n",
       "3     2020-01-08\n",
       "4     2020-01-08\n",
       "         ...    \n",
       "113   2020-01-19\n",
       "114   2020-01-19\n",
       "115   2020-01-19\n",
       "116   2020-01-19\n",
       "117   2020-01-19\n",
       "Name: cd, Length: 118, dtype: datetime64[ns]"
      ]
     },
     "execution_count": 90,
     "metadata": {},
     "output_type": "execute_result"
    }
   ],
   "source": [
    "#Add 3 days to existing date\n",
    "df.cd.dt.date+ DateOffset(days=3)"
   ]
  },
  {
   "cell_type": "code",
   "execution_count": 91,
   "metadata": {},
   "outputs": [
    {
     "data": {
      "text/plain": [
       "0     2019-12-30\n",
       "1     2019-12-30\n",
       "2     2019-12-30\n",
       "3     2019-12-30\n",
       "4     2019-12-30\n",
       "         ...    \n",
       "113   2020-01-10\n",
       "114   2020-01-10\n",
       "115   2020-01-10\n",
       "116   2020-01-10\n",
       "117   2020-01-10\n",
       "Name: cd, Length: 118, dtype: datetime64[ns]"
      ]
     },
     "execution_count": 91,
     "metadata": {},
     "output_type": "execute_result"
    }
   ],
   "source": [
    "#Subtract 6 days from existing date\n",
    "\n",
    "df.cd.dt.date+ DateOffset(days=-6)"
   ]
  },
  {
   "cell_type": "code",
   "execution_count": 92,
   "metadata": {},
   "outputs": [
    {
     "data": {
      "text/plain": [
       "c1    object\n",
       "dtype: object"
      ]
     },
     "execution_count": 92,
     "metadata": {},
     "output_type": "execute_result"
    }
   ],
   "source": [
    "#checking other datetime format .\n",
    "df=pd.DataFrame({\"c1\":[\"12-jan-2020 10:14:20\"]})\n",
    "df.dtypes"
   ]
  },
  {
   "cell_type": "code",
   "execution_count": 93,
   "metadata": {},
   "outputs": [
    {
     "data": {
      "text/plain": [
       "0   2020-01-12 10:14:20\n",
       "Name: c1, dtype: datetime64[ns]"
      ]
     },
     "execution_count": 93,
     "metadata": {},
     "output_type": "execute_result"
    }
   ],
   "source": [
    "#converting to datetime format\n",
    "pd.to_datetime(df.c1)"
   ]
  },
  {
   "cell_type": "code",
   "execution_count": 94,
   "metadata": {},
   "outputs": [
    {
     "data": {
      "text/plain": [
       "0    2020-01-12\n",
       "Name: c1, dtype: object"
      ]
     },
     "execution_count": 94,
     "metadata": {},
     "output_type": "execute_result"
    }
   ],
   "source": [
    "#extracting date from the date-time object\n",
    "pd.to_datetime(df.c1).dt.date"
   ]
  }
 ],
 "metadata": {
  "kernelspec": {
   "display_name": "Python 3",
   "language": "python",
   "name": "python3"
  },
  "language_info": {
   "codemirror_mode": {
    "name": "ipython",
    "version": 3
   },
   "file_extension": ".py",
   "mimetype": "text/x-python",
   "name": "python",
   "nbconvert_exporter": "python",
   "pygments_lexer": "ipython3",
   "version": "3.7.3"
  }
 },
 "nbformat": 4,
 "nbformat_minor": 2
}
